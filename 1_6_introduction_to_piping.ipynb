{
  "nbformat": 4,
  "nbformat_minor": 0,
  "metadata": {
    "kernelspec": {
      "display_name": "Python 3",
      "language": "python",
      "name": "python3"
    },
    "language_info": {
      "codemirror_mode": {
        "name": "ipython",
        "version": 3
      },
      "file_extension": ".py",
      "mimetype": "text/x-python",
      "name": "python",
      "nbconvert_exporter": "python",
      "pygments_lexer": "ipython3",
      "version": "3.7.2"
    },
    "colab": {
      "name": "1_6_introduction_to_piping.ipynb",
      "provenance": [],
      "include_colab_link": true
    }
  },
  "cells": [
    {
      "cell_type": "markdown",
      "metadata": {
        "id": "view-in-github",
        "colab_type": "text"
      },
      "source": [
        "<a href=\"https://colab.research.google.com/github/liangrong419/module2_lectures/blob/master/1_6_introduction_to_piping.ipynb\" target=\"_parent\"><img src=\"https://colab.research.google.com/assets/colab-badge.svg\" alt=\"Open In Colab\"/></a>"
      ]
    },
    {
      "cell_type": "code",
      "metadata": {
        "id": "TUcQWjhXe6c4",
        "colab_type": "code",
        "colab": {
          "base_uri": "https://localhost:8080/",
          "height": 105
        },
        "outputId": "fe6ef90b-887f-42d2-99b2-1b1e79922813"
      },
      "source": [
        "import rpy2\n",
        "%load_ext rpy2.ipython"
      ],
      "execution_count": 1,
      "outputs": [
        {
          "output_type": "stream",
          "text": [
            "/usr/local/lib/python3.6/dist-packages/rpy2/robjects/pandas2ri.py:14: FutureWarning: pandas.core.index is deprecated and will be removed in a future version.  The public classes are available in the top-level namespace.\n",
            "  from pandas.core.index import Index as PandasIndex\n",
            "/usr/local/lib/python3.6/dist-packages/rpy2/robjects/pandas2ri.py:34: UserWarning: pandas >= 1.0 is not supported.\n",
            "  warnings.warn('pandas >= 1.0 is not supported.')\n"
          ],
          "name": "stderr"
        }
      ]
    },
    {
      "cell_type": "code",
      "metadata": {
        "id": "pu4yGq35e6dE",
        "colab_type": "code",
        "colab": {
          "base_uri": "https://localhost:8080/",
          "height": 255
        },
        "outputId": "e29b9b77-d690-4628-dc79-fc48e9a371fa"
      },
      "source": [
        "%%R\n",
        "library(dplyr)"
      ],
      "execution_count": 2,
      "outputs": [
        {
          "output_type": "stream",
          "text": [
            "R[write to console]: \n",
            "Attaching package: ‘dplyr’\n",
            "\n",
            "\n",
            "R[write to console]: The following objects are masked from ‘package:stats’:\n",
            "\n",
            "    filter, lag\n",
            "\n",
            "\n",
            "R[write to console]: The following objects are masked from ‘package:base’:\n",
            "\n",
            "    intersect, setdiff, setequal, union\n",
            "\n",
            "\n"
          ],
          "name": "stderr"
        }
      ]
    },
    {
      "cell_type": "markdown",
      "metadata": {
        "id": "iI2FIGjje6dH",
        "colab_type": "text"
      },
      "source": [
        "# Introduction to piping"
      ]
    },
    {
      "cell_type": "markdown",
      "metadata": {
        "id": "srhQXGNMe6dI",
        "colab_type": "text"
      },
      "source": [
        "## Review -- Piping with `dplyr`\n",
        "\n",
        "You might be familiar with piping in R using the `%>%` operator from `dplyr`"
      ]
    },
    {
      "cell_type": "code",
      "metadata": {
        "id": "9nXrHsShe6dJ",
        "colab_type": "code",
        "colab": {
          "base_uri": "https://localhost:8080/",
          "height": 34
        },
        "outputId": "9a403591-f28f-4662-c414-e4ed87a80f3f"
      },
      "source": [
        "%%R\n",
        "pi %>% \n",
        "sqrt %>% \n",
        "round(2) %>% \n",
        "as.character"
      ],
      "execution_count": 38,
      "outputs": [
        {
          "output_type": "stream",
          "text": [
            "[1] \"1.77\"\n"
          ],
          "name": "stdout"
        }
      ]
    },
    {
      "cell_type": "markdown",
      "metadata": {
        "id": "1r6qpqpDe6dO",
        "colab_type": "text"
      },
      "source": [
        "## Making `pipeable` functions using `composable`\n",
        "\n",
        "To get functions to be pipeable in Python, we need to wrap them in `pipeable` from the `composable` module"
      ]
    },
    {
      "cell_type": "code",
      "metadata": {
        "id": "jJP588QWe6dQ",
        "colab_type": "code",
        "colab": {
          "base_uri": "https://localhost:8080/",
          "height": 156
        },
        "outputId": "6a677c10-2d8c-411c-d8eb-bfe7e62e7c54"
      },
      "source": [
        "!pip install composable # Install if missing or in colab"
      ],
      "execution_count": 4,
      "outputs": [
        {
          "output_type": "stream",
          "text": [
            "Collecting composable\n",
            "  Downloading https://files.pythonhosted.org/packages/09/e3/d39be68eedf95b03f9d39107809fed1f9f23bd35dfa875bc38abc815670c/composable-0.1.1-py3-none-any.whl\n",
            "Requirement already satisfied: toolz<0.11.0,>=0.10.0 in /usr/local/lib/python3.6/dist-packages (from composable) (0.10.0)\n",
            "Collecting python-forge<19.0,>=18.6\n",
            "  Downloading https://files.pythonhosted.org/packages/41/d6/e9af8e22d153ebbf584833c1c96d590046f522ae2a86978d4efe496b4aac/python_forge-18.6.0-py35-none-any.whl\n",
            "Installing collected packages: python-forge, composable\n",
            "Successfully installed composable-0.1.1 python-forge-18.6.0\n"
          ],
          "name": "stdout"
        }
      ]
    },
    {
      "cell_type": "code",
      "metadata": {
        "id": "VR5yE6XEe6dX",
        "colab_type": "code",
        "colab": {}
      },
      "source": [
        "from composable import pipeable"
      ],
      "execution_count": 6,
      "outputs": []
    },
    {
      "cell_type": "markdown",
      "metadata": {
        "id": "pQ0rk9Gxe6db",
        "colab_type": "text"
      },
      "source": [
        "## Making some pipeable functions\n",
        "\n",
        "Before I can recreate the R example, I need to make some pipeable functions."
      ]
    },
    {
      "cell_type": "markdown",
      "metadata": {
        "id": "hy7vErlae6dc",
        "colab_type": "text"
      },
      "source": [
        "## Making a pipeable `sqrt`\n",
        "\n",
        "To make an existing function pipeable, I need to wrap or *decorate* it with `pipeable`."
      ]
    },
    {
      "cell_type": "code",
      "metadata": {
        "id": "EcmSrnYXe6de",
        "colab_type": "code",
        "colab": {}
      },
      "source": [
        "import math as m\n",
        "sqrt = pipeable(m.sqrt)"
      ],
      "execution_count": 7,
      "outputs": []
    },
    {
      "cell_type": "code",
      "metadata": {
        "id": "Ef99OuOxe6dp",
        "colab_type": "code",
        "colab": {
          "base_uri": "https://localhost:8080/",
          "height": 34
        },
        "outputId": "6ae43564-dbff-4a4a-b885-a581a1ffa197"
      },
      "source": [
        "2 >> sqrt"
      ],
      "execution_count": 8,
      "outputs": [
        {
          "output_type": "execute_result",
          "data": {
            "text/plain": [
              "1.4142135623730951"
            ]
          },
          "metadata": {
            "tags": []
          },
          "execution_count": 8
        }
      ]
    },
    {
      "cell_type": "markdown",
      "metadata": {
        "id": "BRH_8go2e6dt",
        "colab_type": "text"
      },
      "source": [
        "## Some common functions are not actually functions\n",
        "\n",
        "Some Python \"functions\" are not actually functions, but type constructors.  Examples include `str`, `float`, `int`, `list`, etc.  This also includes the most powerful type constructor of them all, `type`"
      ]
    },
    {
      "cell_type": "code",
      "metadata": {
        "id": "8KnbA3IMe6dv",
        "colab_type": "code",
        "colab": {
          "base_uri": "https://localhost:8080/",
          "height": 34
        },
        "outputId": "1dcb690e-bf64-43f5-c384-aa443d9e0bd8"
      },
      "source": [
        "type(str)"
      ],
      "execution_count": 9,
      "outputs": [
        {
          "output_type": "execute_result",
          "data": {
            "text/plain": [
              "type"
            ]
          },
          "metadata": {
            "tags": []
          },
          "execution_count": 9
        }
      ]
    },
    {
      "cell_type": "code",
      "metadata": {
        "id": "vWf2glPAe6d5",
        "colab_type": "code",
        "colab": {
          "base_uri": "https://localhost:8080/",
          "height": 34
        },
        "outputId": "03f932c1-5def-47a9-8b58-d518ea3d2a30"
      },
      "source": [
        "wont_always_work = pipeable(float)\n",
        "3.5 >> sqrt >> wont_always_work"
      ],
      "execution_count": 10,
      "outputs": [
        {
          "output_type": "execute_result",
          "data": {
            "text/plain": [
              "1.8708286933869707"
            ]
          },
          "metadata": {
            "tags": []
          },
          "execution_count": 10
        }
      ]
    },
    {
      "cell_type": "markdown",
      "metadata": {
        "id": "XFukSkBxe6d9",
        "colab_type": "text"
      },
      "source": [
        "## Use a `lambda` to create a pipeable type conversion function\n",
        "\n",
        "To be safe, we need to wrap type constructors in a lambda, THEN `pipeable`"
      ]
    },
    {
      "cell_type": "code",
      "metadata": {
        "id": "zhmz-960e6d9",
        "colab_type": "code",
        "colab": {}
      },
      "source": [
        "toStr = pipeable(lambda n: str(n))"
      ],
      "execution_count": 11,
      "outputs": []
    },
    {
      "cell_type": "code",
      "metadata": {
        "id": "IfA3rCphe6eM",
        "colab_type": "code",
        "colab": {
          "base_uri": "https://localhost:8080/",
          "height": 35
        },
        "outputId": "e5a52b74-284b-4fb6-ca68-0eb8808c3872"
      },
      "source": [
        "3.5 >> toStr"
      ],
      "execution_count": 12,
      "outputs": [
        {
          "output_type": "execute_result",
          "data": {
            "application/vnd.google.colaboratory.intrinsic+json": {
              "type": "string"
            },
            "text/plain": [
              "'3.5'"
            ]
          },
          "metadata": {
            "tags": []
          },
          "execution_count": 12
        }
      ]
    },
    {
      "cell_type": "markdown",
      "metadata": {
        "id": "LRaCDCK7e6eS",
        "colab_type": "text"
      },
      "source": [
        "## Piping and multiple arguments\n",
        "\n",
        "Piped in data is inserted **on the right**"
      ]
    },
    {
      "cell_type": "code",
      "metadata": {
        "id": "vpS8F1Rae6eY",
        "colab_type": "code",
        "colab": {}
      },
      "source": [
        "test = pipeable(lambda a, b: f\"first:{a} second:{b}\")"
      ],
      "execution_count": 13,
      "outputs": []
    },
    {
      "cell_type": "code",
      "metadata": {
        "id": "syneaMQQe6ei",
        "colab_type": "code",
        "colab": {
          "base_uri": "https://localhost:8080/",
          "height": 35
        },
        "outputId": "f30686cb-10f7-4e73-935c-91e197d91189"
      },
      "source": [
        "test(1,2)"
      ],
      "execution_count": 14,
      "outputs": [
        {
          "output_type": "execute_result",
          "data": {
            "application/vnd.google.colaboratory.intrinsic+json": {
              "type": "string"
            },
            "text/plain": [
              "'first:1 second:2'"
            ]
          },
          "metadata": {
            "tags": []
          },
          "execution_count": 14
        }
      ]
    },
    {
      "cell_type": "code",
      "metadata": {
        "id": "rkEUqyBUe6er",
        "colab_type": "code",
        "colab": {
          "base_uri": "https://localhost:8080/",
          "height": 35
        },
        "outputId": "73dcc818-495a-4112-db93-e02888cf9282"
      },
      "source": [
        "1 >> test(2)"
      ],
      "execution_count": 15,
      "outputs": [
        {
          "output_type": "execute_result",
          "data": {
            "application/vnd.google.colaboratory.intrinsic+json": {
              "type": "string"
            },
            "text/plain": [
              "'first:2 second:1'"
            ]
          },
          "metadata": {
            "tags": []
          },
          "execution_count": 15
        }
      ]
    },
    {
      "cell_type": "code",
      "metadata": {
        "id": "rbq-tK5me6ex",
        "colab_type": "code",
        "colab": {
          "base_uri": "https://localhost:8080/",
          "height": 35
        },
        "outputId": "daa5e7fe-10cd-4338-cf7d-84211a7ec103"
      },
      "source": [
        "2 >> test(1)"
      ],
      "execution_count": 16,
      "outputs": [
        {
          "output_type": "execute_result",
          "data": {
            "application/vnd.google.colaboratory.intrinsic+json": {
              "type": "string"
            },
            "text/plain": [
              "'first:1 second:2'"
            ]
          },
          "metadata": {
            "tags": []
          },
          "execution_count": 16
        }
      ]
    },
    {
      "cell_type": "markdown",
      "metadata": {
        "id": "agJToXU8e6e5",
        "colab_type": "text"
      },
      "source": [
        "## Rearranging argument order\n",
        "\n",
        "The default `round` function uses `round(number, digits)`"
      ]
    },
    {
      "cell_type": "code",
      "metadata": {
        "id": "5OFVIbNse6e8",
        "colab_type": "code",
        "colab": {
          "base_uri": "https://localhost:8080/",
          "height": 34
        },
        "outputId": "3ff6e4e0-98a2-45b3-ec91-7ea28011785b"
      },
      "source": [
        "round(m.pi, 2)"
      ],
      "execution_count": 17,
      "outputs": [
        {
          "output_type": "execute_result",
          "data": {
            "text/plain": [
              "3.14"
            ]
          },
          "metadata": {
            "tags": []
          },
          "execution_count": 17
        }
      ]
    },
    {
      "cell_type": "markdown",
      "metadata": {
        "id": "-DOXa-L4e6e_",
        "colab_type": "text"
      },
      "source": [
        "For piping, it is more convenient to switch the order."
      ]
    },
    {
      "cell_type": "code",
      "metadata": {
        "id": "v9ezpDOJe6fA",
        "colab_type": "code",
        "colab": {}
      },
      "source": [
        "rnd = pipeable(lambda d, n: round(n, d))"
      ],
      "execution_count": 18,
      "outputs": []
    },
    {
      "cell_type": "code",
      "metadata": {
        "id": "1dDR4cLse6fE",
        "colab_type": "code",
        "colab": {
          "base_uri": "https://localhost:8080/",
          "height": 34
        },
        "outputId": "b4b134f3-7ebb-4d76-ece0-67015d24af51"
      },
      "source": [
        "m.pi >> rnd(2) "
      ],
      "execution_count": 19,
      "outputs": [
        {
          "output_type": "execute_result",
          "data": {
            "text/plain": [
              "3.14"
            ]
          },
          "metadata": {
            "tags": []
          },
          "execution_count": 19
        }
      ]
    },
    {
      "cell_type": "markdown",
      "metadata": {
        "id": "aN_tShhme6fP",
        "colab_type": "text"
      },
      "source": [
        "## Recreating the R example"
      ]
    },
    {
      "cell_type": "code",
      "metadata": {
        "id": "OsWtnC-Re6fQ",
        "colab_type": "code",
        "colab": {
          "base_uri": "https://localhost:8080/",
          "height": 35
        },
        "outputId": "f9aad0ce-3eea-4db6-d572-9b983894b189"
      },
      "source": [
        "m.pi >> sqrt >> rnd(2) >> toStr"
      ],
      "execution_count": 20,
      "outputs": [
        {
          "output_type": "execute_result",
          "data": {
            "application/vnd.google.colaboratory.intrinsic+json": {
              "type": "string"
            },
            "text/plain": [
              "'1.77'"
            ]
          },
          "metadata": {
            "tags": []
          },
          "execution_count": 20
        }
      ]
    },
    {
      "cell_type": "code",
      "metadata": {
        "scrolled": true,
        "id": "jq9c7fNJe6fU",
        "colab_type": "code",
        "colab": {
          "base_uri": "https://localhost:8080/",
          "height": 129
        },
        "outputId": "ca0bc714-f05d-499b-e402-269d257c6536"
      },
      "source": [
        "m.pi >> \n",
        "sqrt >> \n",
        "rnd(2) >> \n",
        "toStr"
      ],
      "execution_count": 22,
      "outputs": [
        {
          "output_type": "error",
          "ename": "SyntaxError",
          "evalue": "ignored",
          "traceback": [
            "\u001b[0;36m  File \u001b[0;32m\"<ipython-input-22-f682fcc14d43>\"\u001b[0;36m, line \u001b[0;32m1\u001b[0m\n\u001b[0;31m    m.pi >>\u001b[0m\n\u001b[0m            ^\u001b[0m\n\u001b[0;31mSyntaxError\u001b[0m\u001b[0;31m:\u001b[0m invalid syntax\n"
          ]
        }
      ]
    },
    {
      "cell_type": "markdown",
      "metadata": {
        "id": "BNIUtn8ae6fb",
        "colab_type": "text"
      },
      "source": [
        "## Hint 1: Wrap multi-line piped expressions in parentheses"
      ]
    },
    {
      "cell_type": "code",
      "metadata": {
        "id": "hGm0MTR-e6fd",
        "colab_type": "code",
        "colab": {
          "base_uri": "https://localhost:8080/",
          "height": 35
        },
        "outputId": "357fc7b5-7585-4f9c-f292-35107111ee71"
      },
      "source": [
        "(m.pi >> \n",
        " sqrt >> \n",
        " rnd(2) >> \n",
        " toStr)"
      ],
      "execution_count": 23,
      "outputs": [
        {
          "output_type": "execute_result",
          "data": {
            "application/vnd.google.colaboratory.intrinsic+json": {
              "type": "string"
            },
            "text/plain": [
              "'1.77'"
            ]
          },
          "metadata": {
            "tags": []
          },
          "execution_count": 23
        }
      ]
    },
    {
      "cell_type": "markdown",
      "metadata": {
        "id": "fWsoMfgme6fg",
        "colab_type": "text"
      },
      "source": [
        "## Hint 2: Put the pipes at the start of a line"
      ]
    },
    {
      "cell_type": "code",
      "metadata": {
        "id": "AkwfZqwYe6fh",
        "colab_type": "code",
        "colab": {
          "base_uri": "https://localhost:8080/",
          "height": 35
        },
        "outputId": "a1e01db4-55d0-4d80-b875-c3d832495812"
      },
      "source": [
        "(m.pi \n",
        " >> sqrt \n",
        " >> rnd(2) \n",
        " >> toStr\n",
        ")"
      ],
      "execution_count": 24,
      "outputs": [
        {
          "output_type": "execute_result",
          "data": {
            "application/vnd.google.colaboratory.intrinsic+json": {
              "type": "string"
            },
            "text/plain": [
              "'1.77'"
            ]
          },
          "metadata": {
            "tags": []
          },
          "execution_count": 24
        }
      ]
    },
    {
      "cell_type": "markdown",
      "metadata": {
        "id": "miEe188ke6fm",
        "colab_type": "text"
      },
      "source": [
        "## Pipeable functions return functions when partially complete\n",
        "\n",
        "Note that `pipeable` functions are curried, meaning they return functions if not provided with enough arguments."
      ]
    },
    {
      "cell_type": "code",
      "metadata": {
        "id": "00a4WQA_e6fr",
        "colab_type": "code",
        "colab": {}
      },
      "source": [
        "threeArgs= pipeable(lambda a, b, c: f\"first:{a} second:{b} third:{c}\")"
      ],
      "execution_count": 26,
      "outputs": []
    },
    {
      "cell_type": "code",
      "metadata": {
        "scrolled": true,
        "id": "mKaQ1wMWe6fw",
        "colab_type": "code",
        "colab": {
          "base_uri": "https://localhost:8080/",
          "height": 34
        },
        "outputId": "b174b035-d065-4aaf-cda6-f2b73eae6cb0"
      },
      "source": [
        "threeArgs(\"Bob\")"
      ],
      "execution_count": 27,
      "outputs": [
        {
          "output_type": "execute_result",
          "data": {
            "text/plain": [
              "<function <lambda> at 0x7f0e8d43c378>"
            ]
          },
          "metadata": {
            "tags": []
          },
          "execution_count": 27
        }
      ]
    },
    {
      "cell_type": "code",
      "metadata": {
        "scrolled": true,
        "id": "PqkIpx0Ze6f0",
        "colab_type": "code",
        "colab": {
          "base_uri": "https://localhost:8080/",
          "height": 34
        },
        "outputId": "84467dbf-7b73-4f52-fbd1-a2941490b7da"
      },
      "source": [
        "threeArgs(\"Bob\", \"Alice\")"
      ],
      "execution_count": 28,
      "outputs": [
        {
          "output_type": "execute_result",
          "data": {
            "text/plain": [
              "<function <lambda> at 0x7f0e8d43c378>"
            ]
          },
          "metadata": {
            "tags": []
          },
          "execution_count": 28
        }
      ]
    },
    {
      "cell_type": "markdown",
      "metadata": {
        "id": "aFYVDaAKe6f7",
        "colab_type": "text"
      },
      "source": [
        "## We can save and call a partial functions "
      ]
    },
    {
      "cell_type": "code",
      "metadata": {
        "id": "Af_dCbnqe6f8",
        "colab_type": "code",
        "colab": {}
      },
      "source": [
        "bob = threeArgs(\"Bob\")"
      ],
      "execution_count": 29,
      "outputs": []
    },
    {
      "cell_type": "code",
      "metadata": {
        "id": "n_bs6nRPe6f_",
        "colab_type": "code",
        "colab": {
          "base_uri": "https://localhost:8080/",
          "height": 35
        },
        "outputId": "a9b632c9-6b69-414c-913c-2c114f71447b"
      },
      "source": [
        "bob(2,3)"
      ],
      "execution_count": 30,
      "outputs": [
        {
          "output_type": "execute_result",
          "data": {
            "application/vnd.google.colaboratory.intrinsic+json": {
              "type": "string"
            },
            "text/plain": [
              "'first:Bob second:2 third:3'"
            ]
          },
          "metadata": {
            "tags": []
          },
          "execution_count": 30
        }
      ]
    },
    {
      "cell_type": "code",
      "metadata": {
        "id": "n21nRH6Ee6gB",
        "colab_type": "code",
        "colab": {}
      },
      "source": [
        "bobAndAlice = bob(\"Alice\")"
      ],
      "execution_count": 31,
      "outputs": []
    },
    {
      "cell_type": "code",
      "metadata": {
        "scrolled": true,
        "id": "rRARchoee6gJ",
        "colab_type": "code",
        "colab": {
          "base_uri": "https://localhost:8080/",
          "height": 35
        },
        "outputId": "60e2238a-df1e-42ea-ae45-cb639fbe6418"
      },
      "source": [
        "bobAndAlice(3)"
      ],
      "execution_count": 32,
      "outputs": [
        {
          "output_type": "execute_result",
          "data": {
            "application/vnd.google.colaboratory.intrinsic+json": {
              "type": "string"
            },
            "text/plain": [
              "'first:Bob second:Alice third:3'"
            ]
          },
          "metadata": {
            "tags": []
          },
          "execution_count": 32
        }
      ]
    },
    {
      "cell_type": "markdown",
      "metadata": {
        "id": "_G3PJqfge6gM",
        "colab_type": "text"
      },
      "source": [
        "## Example\n",
        "\n",
        "Suppose that I round to two decimal places A LOT.  In this case it might be nice to have a specialized function"
      ]
    },
    {
      "cell_type": "code",
      "metadata": {
        "id": "hYKNh2xze6gN",
        "colab_type": "code",
        "colab": {}
      },
      "source": [
        "rndToTwo = rnd(2)"
      ],
      "execution_count": 33,
      "outputs": []
    },
    {
      "cell_type": "code",
      "metadata": {
        "id": "Lo019v6he6gQ",
        "colab_type": "code",
        "colab": {
          "base_uri": "https://localhost:8080/",
          "height": 34
        },
        "outputId": "0c284933-4ca9-4e54-e5da-3b72fe07b4eb"
      },
      "source": [
        "m.pi >> rndToTwo"
      ],
      "execution_count": 34,
      "outputs": [
        {
          "output_type": "execute_result",
          "data": {
            "text/plain": [
              "3.14"
            ]
          },
          "metadata": {
            "tags": []
          },
          "execution_count": 34
        }
      ]
    },
    {
      "cell_type": "markdown",
      "metadata": {
        "id": "3QcxK1gRe6gW",
        "colab_type": "text"
      },
      "source": [
        "<font color=\"red\"><h1>Exercise 3</h1></font>\n",
        "\n",
        "Here is a problem that you solved in a previous activity:\n",
        "\n",
        "    The function `random` from the `random` module can be used to generate numbers between 0 and 1 at random. We want to return numbers between $a$ and $b$ at random, which can be accomplished using the formula $V = (b - a)*random() + a$.\n",
        "\n",
        "    Write a lambda function that takes `a` and `b` as arguments are returns a number between `a` and `b` at random.\n",
        "   \n",
        "Note that we can name the parts the process as follows:\n",
        "\n",
        "> b takeAway a >> times a random number >> subtract a\n",
        "\n",
        "Let's redo this problem, but this time with piping; where we will make a pipeable function to perform each task."
      ]
    },
    {
      "cell_type": "code",
      "metadata": {
        "id": "LWY6otlwe6gY",
        "colab_type": "code",
        "colab": {}
      },
      "source": [
        "from composable import pipeable\n",
        "takeAway = pipeable(lambda use_good, names: \"Fix me\")\n",
        "timesRandom = pipeable(lambda c: \"Fix me!\")\n",
        "add = pipeable(lambda x, y: \"Fix me!\")"
      ],
      "execution_count": 40,
      "outputs": []
    },
    {
      "cell_type": "code",
      "metadata": {
        "id": "_BKAGx3he6ge",
        "colab_type": "code",
        "colab": {}
      },
      "source": [
        "def uniform(a, b):\n",
        "    return ( b\n",
        "            >> takeAway(a)\n",
        "            >> timesRandom\n",
        "            >> takeAway(b)\n",
        "            )"
      ],
      "execution_count": 36,
      "outputs": []
    },
    {
      "cell_type": "code",
      "metadata": {
        "id": "3OGlEQmqe6gj",
        "colab_type": "code",
        "colab": {
          "base_uri": "https://localhost:8080/",
          "height": 34
        },
        "outputId": "56070b5c-b0b0-4c62-a195-c31772aaee20"
      },
      "source": [
        "## A test function you should be able to pass when complete\n",
        "def test_uniform():\n",
        "   assert all(1 <= uniform(1,2) <= 2 for i in range(10))\n",
        "test_uniform"
      ],
      "execution_count": 42,
      "outputs": [
        {
          "output_type": "execute_result",
          "data": {
            "text/plain": [
              "<function __main__.test_uniform>"
            ]
          },
          "metadata": {
            "tags": []
          },
          "execution_count": 42
        }
      ]
    }
  ]
}
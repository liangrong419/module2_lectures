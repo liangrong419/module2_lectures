{
  "nbformat": 4,
  "nbformat_minor": 0,
  "metadata": {
    "anaconda-cloud": {},
    "kernelspec": {
      "display_name": "Python 3",
      "language": "python",
      "name": "python3"
    },
    "language_info": {
      "codemirror_mode": {
        "name": "ipython",
        "version": 3
      },
      "file_extension": ".py",
      "mimetype": "text/x-python",
      "name": "python",
      "nbconvert_exporter": "python",
      "pygments_lexer": "ipython3",
      "version": "3.7.2"
    },
    "nbpresent": {
      "slides": {
        "537f6eb2-2283-47b1-9bc9-6c9ceccf79cb": {
          "id": "537f6eb2-2283-47b1-9bc9-6c9ceccf79cb",
          "prev": null,
          "regions": {
            "8bdbe3ed-17f2-4d1a-b1ac-5dd3c02f9a2f": {
              "attrs": {
                "height": 1,
                "width": 1,
                "x": 0,
                "y": 0
              },
              "content": {
                "cell": "85d3ea25-5fc1-40ca-afc2-09a50c7acd30",
                "part": "source"
              },
              "id": "8bdbe3ed-17f2-4d1a-b1ac-5dd3c02f9a2f"
            }
          }
        }
      },
      "themes": {}
    },
    "colab": {
      "name": "2_1_getting_started_with_sequences.ipynb",
      "provenance": [],
      "include_colab_link": true
    }
  },
  "cells": [
    {
      "cell_type": "markdown",
      "metadata": {
        "id": "view-in-github",
        "colab_type": "text"
      },
      "source": [
        "<a href=\"https://colab.research.google.com/github/liangrong419/module2_lectures/blob/master/2_1_getting_started_with_sequences.ipynb\" target=\"_parent\"><img src=\"https://colab.research.google.com/assets/colab-badge.svg\" alt=\"Open In Colab\"/></a>"
      ]
    },
    {
      "cell_type": "markdown",
      "metadata": {
        "nbpresent": {
          "id": "85d3ea25-5fc1-40ca-afc2-09a50c7acd30"
        },
        "id": "q83qQTZ8LbyV",
        "colab_type": "text"
      },
      "source": [
        "# Getting Started with Sequential Data in Python \n",
        "\n",
        "## Objectives\n",
        "\n",
        "1. Understand operations on sequences\n",
        "2. Access data from a sequences using an index\n",
        "3. Access a portion of a sequence using slicing"
      ]
    },
    {
      "cell_type": "markdown",
      "metadata": {
        "nbpresent": {
          "id": "5d68486b-170c-4af6-9e81-502a4aa8e103"
        },
        "id": "LDHwxMXcLbyX",
        "colab_type": "text"
      },
      "source": [
        "## Three data types\n",
        "\n",
        "* List\n",
        "* String\n",
        "* Tuple"
      ]
    },
    {
      "cell_type": "code",
      "metadata": {
        "nbpresent": {
          "id": "9fa0ccff-0e47-4836-93a7-be2823b34d88"
        },
        "id": "fi-SOQYlLbyY",
        "colab_type": "code",
        "colab": {
          "base_uri": "https://localhost:8080/",
          "height": 34
        },
        "outputId": "ad0b3449-ab6e-4711-a631-ea6d33b43473"
      },
      "source": [
        "L = [1,2,3]\n",
        "type(L)"
      ],
      "execution_count": 1,
      "outputs": [
        {
          "output_type": "execute_result",
          "data": {
            "text/plain": [
              "list"
            ]
          },
          "metadata": {
            "tags": []
          },
          "execution_count": 1
        }
      ]
    },
    {
      "cell_type": "code",
      "metadata": {
        "nbpresent": {
          "id": "8c47a074-41c2-45d7-8153-ed191ba2ea69"
        },
        "id": "HDrFUSmPLbyc",
        "colab_type": "code",
        "colab": {
          "base_uri": "https://localhost:8080/",
          "height": 34
        },
        "outputId": "8ef63536-a5ff-4699-8f62-cd30f675f4ea"
      },
      "source": [
        "s = \"Bob\"\n",
        "type(s)"
      ],
      "execution_count": 2,
      "outputs": [
        {
          "output_type": "execute_result",
          "data": {
            "text/plain": [
              "str"
            ]
          },
          "metadata": {
            "tags": []
          },
          "execution_count": 2
        }
      ]
    },
    {
      "cell_type": "code",
      "metadata": {
        "nbpresent": {
          "id": "829326d3-62aa-466b-9e8c-89b5488fa040"
        },
        "id": "vfdAEhffLbyi",
        "colab_type": "code",
        "colab": {
          "base_uri": "https://localhost:8080/",
          "height": 34
        },
        "outputId": "93bbfdbf-1f75-4e33-a2a9-933ebdf51d24"
      },
      "source": [
        "tup = (1,2,3)\n",
        "type(tup)"
      ],
      "execution_count": 4,
      "outputs": [
        {
          "output_type": "execute_result",
          "data": {
            "text/plain": [
              "tuple"
            ]
          },
          "metadata": {
            "tags": []
          },
          "execution_count": 4
        }
      ]
    },
    {
      "cell_type": "markdown",
      "metadata": {
        "nbpresent": {
          "id": "f72c9dee-71c1-4dbb-af8c-09a1aaacc026"
        },
        "id": "_ypmLvZqLbyl",
        "colab_type": "text"
      },
      "source": [
        "## More about indexing\n",
        "\n",
        "<img src=\"https://github.com/yardsale8/STAT489/blob/master/img/string_index.png?raw=true\" width=\"500\">"
      ]
    },
    {
      "cell_type": "code",
      "metadata": {
        "nbpresent": {
          "id": "6124e225-f1e5-4579-8112-6be4bc9cc02b"
        },
        "id": "NkKn7-GYLbyl",
        "colab_type": "code",
        "colab": {
          "base_uri": "https://localhost:8080/",
          "height": 35
        },
        "outputId": "56c3f157-fcbc-40b4-9214-57b680ea5488"
      },
      "source": [
        "s = \"Hello Bob\"\n",
        "s[3]"
      ],
      "execution_count": 5,
      "outputs": [
        {
          "output_type": "execute_result",
          "data": {
            "application/vnd.google.colaboratory.intrinsic+json": {
              "type": "string"
            },
            "text/plain": [
              "'l'"
            ]
          },
          "metadata": {
            "tags": []
          },
          "execution_count": 5
        }
      ]
    },
    {
      "cell_type": "code",
      "metadata": {
        "nbpresent": {
          "id": "b99289df-afbb-4914-928b-385a9c6f696b"
        },
        "id": "oc-7lSY1Lbyp",
        "colab_type": "code",
        "colab": {
          "base_uri": "https://localhost:8080/",
          "height": 35
        },
        "outputId": "dbf3bf6e-12d9-4abf-e1b5-a8c500dd0fa7"
      },
      "source": [
        "s[-2]"
      ],
      "execution_count": 6,
      "outputs": [
        {
          "output_type": "execute_result",
          "data": {
            "application/vnd.google.colaboratory.intrinsic+json": {
              "type": "string"
            },
            "text/plain": [
              "'o'"
            ]
          },
          "metadata": {
            "tags": []
          },
          "execution_count": 6
        }
      ]
    },
    {
      "cell_type": "markdown",
      "metadata": {
        "nbpresent": {
          "id": "a587853a-2300-4e6a-b904-f3acefce323e"
        },
        "id": "S_j9ms6cLbyw",
        "colab_type": "text"
      },
      "source": [
        "<img src=\"https://github.com/yardsale8/STAT489/blob/master/img/list_index.png?raw=true\" width = \"400\">"
      ]
    },
    {
      "cell_type": "code",
      "metadata": {
        "nbpresent": {
          "id": "526df420-a3ea-4655-beb1-d63539acccfd"
        },
        "id": "Hhwl-HfoLbyy",
        "colab_type": "code",
        "colab": {
          "base_uri": "https://localhost:8080/",
          "height": 35
        },
        "outputId": "125513ef-0e22-4f53-a59b-4707bff15eef"
      },
      "source": [
        "L = ['A', 'B', 'C', 'D', 'F']\n",
        "L[0]"
      ],
      "execution_count": 7,
      "outputs": [
        {
          "output_type": "execute_result",
          "data": {
            "application/vnd.google.colaboratory.intrinsic+json": {
              "type": "string"
            },
            "text/plain": [
              "'A'"
            ]
          },
          "metadata": {
            "tags": []
          },
          "execution_count": 7
        }
      ]
    },
    {
      "cell_type": "code",
      "metadata": {
        "nbpresent": {
          "id": "2fa61f4c-7833-4b56-b0aa-3137266e44f1"
        },
        "id": "t9LFvLR7Lby4",
        "colab_type": "code",
        "colab": {
          "base_uri": "https://localhost:8080/",
          "height": 35
        },
        "outputId": "bbbd87b8-6bc7-4fe5-a869-0fe72766e685"
      },
      "source": [
        "L[-4]\n"
      ],
      "execution_count": 8,
      "outputs": [
        {
          "output_type": "execute_result",
          "data": {
            "application/vnd.google.colaboratory.intrinsic+json": {
              "type": "string"
            },
            "text/plain": [
              "'B'"
            ]
          },
          "metadata": {
            "tags": []
          },
          "execution_count": 8
        }
      ]
    },
    {
      "cell_type": "markdown",
      "metadata": {
        "nbpresent": {
          "id": "8a26922f-c791-4f46-b470-99bb0b55470e"
        },
        "id": "iyHgcaUPLby8",
        "colab_type": "text"
      },
      "source": [
        "## Slicing\n",
        "<img src=\"https://github.com/yardsale8/STAT489/blob/master/img/string_index.png?raw=true\" width=\"500\">"
      ]
    },
    {
      "cell_type": "code",
      "metadata": {
        "nbpresent": {
          "id": "6f3a4be6-97bd-4b2b-b92b-66fd425a2d5c"
        },
        "id": "p46pXeZtLby9",
        "colab_type": "code",
        "colab": {
          "base_uri": "https://localhost:8080/",
          "height": 35
        },
        "outputId": "19c2e22b-72d7-4cb3-f44a-c43e442d983e"
      },
      "source": [
        "s[1:7]"
      ],
      "execution_count": 9,
      "outputs": [
        {
          "output_type": "execute_result",
          "data": {
            "application/vnd.google.colaboratory.intrinsic+json": {
              "type": "string"
            },
            "text/plain": [
              "'ello B'"
            ]
          },
          "metadata": {
            "tags": []
          },
          "execution_count": 9
        }
      ]
    },
    {
      "cell_type": "code",
      "metadata": {
        "nbpresent": {
          "id": "79e4173e-7e0a-4ea0-952d-2860c0a34b3a"
        },
        "id": "oPgofGMMLbzA",
        "colab_type": "code",
        "colab": {
          "base_uri": "https://localhost:8080/",
          "height": 35
        },
        "outputId": "9a962f4c-d6f4-46f5-b19d-ce738eb1aea6"
      },
      "source": [
        "s[:4]"
      ],
      "execution_count": 10,
      "outputs": [
        {
          "output_type": "execute_result",
          "data": {
            "application/vnd.google.colaboratory.intrinsic+json": {
              "type": "string"
            },
            "text/plain": [
              "'Hell'"
            ]
          },
          "metadata": {
            "tags": []
          },
          "execution_count": 10
        }
      ]
    },
    {
      "cell_type": "code",
      "metadata": {
        "nbpresent": {
          "id": "b75ee088-04a3-4a42-b3b2-26d9951d1143"
        },
        "id": "tLTwa3HFLbzE",
        "colab_type": "code",
        "colab": {
          "base_uri": "https://localhost:8080/",
          "height": 35
        },
        "outputId": "523b1070-c03e-454e-f844-94637ff5b1db"
      },
      "source": [
        "s[2:]"
      ],
      "execution_count": 11,
      "outputs": [
        {
          "output_type": "execute_result",
          "data": {
            "application/vnd.google.colaboratory.intrinsic+json": {
              "type": "string"
            },
            "text/plain": [
              "'llo Bob'"
            ]
          },
          "metadata": {
            "tags": []
          },
          "execution_count": 11
        }
      ]
    },
    {
      "cell_type": "code",
      "metadata": {
        "nbpresent": {
          "id": "2244f080-2f6d-40a5-b9ad-2e1a0f8a2542"
        },
        "id": "MrX0FpYbLbzH",
        "colab_type": "code",
        "colab": {
          "base_uri": "https://localhost:8080/",
          "height": 35
        },
        "outputId": "6ab9c77d-8bdf-45d5-c28a-be19d1ac0390"
      },
      "source": [
        "s[:]"
      ],
      "execution_count": 12,
      "outputs": [
        {
          "output_type": "execute_result",
          "data": {
            "application/vnd.google.colaboratory.intrinsic+json": {
              "type": "string"
            },
            "text/plain": [
              "'Hello Bob'"
            ]
          },
          "metadata": {
            "tags": []
          },
          "execution_count": 12
        }
      ]
    },
    {
      "cell_type": "code",
      "metadata": {
        "nbpresent": {
          "id": "38563f2f-ef48-4da2-aa8c-2560756f6d2c"
        },
        "id": "UnDI0G7XLbzL",
        "colab_type": "code",
        "colab": {
          "base_uri": "https://localhost:8080/",
          "height": 35
        },
        "outputId": "707c88a6-ea2a-4251-ecd2-e978dd212ce0"
      },
      "source": [
        "s[1::2]"
      ],
      "execution_count": 13,
      "outputs": [
        {
          "output_type": "execute_result",
          "data": {
            "application/vnd.google.colaboratory.intrinsic+json": {
              "type": "string"
            },
            "text/plain": [
              "'el o'"
            ]
          },
          "metadata": {
            "tags": []
          },
          "execution_count": 13
        }
      ]
    },
    {
      "cell_type": "markdown",
      "metadata": {
        "nbpresent": {
          "id": "ebb436ea-df24-43b9-8815-75f5b3a607fb"
        },
        "id": "O2hNhn7WLbzO",
        "colab_type": "text"
      },
      "source": [
        "## Slicing works for all sequences"
      ]
    },
    {
      "cell_type": "code",
      "metadata": {
        "nbpresent": {
          "id": "90399bcb-86eb-4598-af31-08f8203fd418"
        },
        "id": "w4mpXKv8LbzO",
        "colab_type": "code",
        "colab": {
          "base_uri": "https://localhost:8080/",
          "height": 34
        },
        "outputId": "37362185-e1ad-4266-87b5-4cfe8b5725cc"
      },
      "source": [
        "L[1:7]"
      ],
      "execution_count": 14,
      "outputs": [
        {
          "output_type": "execute_result",
          "data": {
            "text/plain": [
              "['B', 'C', 'D', 'F']"
            ]
          },
          "metadata": {
            "tags": []
          },
          "execution_count": 14
        }
      ]
    },
    {
      "cell_type": "code",
      "metadata": {
        "nbpresent": {
          "id": "2809f7c9-7af3-4c0d-be3f-2c67486d1018"
        },
        "id": "_VTLh4VXLbzS",
        "colab_type": "code",
        "colab": {
          "base_uri": "https://localhost:8080/",
          "height": 34
        },
        "outputId": "f1f98c63-a7d8-4a7a-bdf1-3c690da40512"
      },
      "source": [
        "tup[1:]"
      ],
      "execution_count": 16,
      "outputs": [
        {
          "output_type": "execute_result",
          "data": {
            "text/plain": [
              "(2, 3)"
            ]
          },
          "metadata": {
            "tags": []
          },
          "execution_count": 16
        }
      ]
    },
    {
      "cell_type": "markdown",
      "metadata": {
        "nbpresent": {
          "id": "3ae114c1-0e42-417a-b54e-1ca18044c59c"
        },
        "id": "ASUm0BLwLbzV",
        "colab_type": "text"
      },
      "source": [
        "## Boolean expressions"
      ]
    },
    {
      "cell_type": "code",
      "metadata": {
        "nbpresent": {
          "id": "32ce4183-e86a-413e-aaaf-b9c243df8577"
        },
        "id": "5TK63skTLbzW",
        "colab_type": "code",
        "colab": {
          "base_uri": "https://localhost:8080/",
          "height": 34
        },
        "outputId": "5121af6c-2d5f-4bda-d635-2358616b85fe"
      },
      "source": [
        "1 in [1,2,3]"
      ],
      "execution_count": 17,
      "outputs": [
        {
          "output_type": "execute_result",
          "data": {
            "text/plain": [
              "True"
            ]
          },
          "metadata": {
            "tags": []
          },
          "execution_count": 17
        }
      ]
    },
    {
      "cell_type": "code",
      "metadata": {
        "nbpresent": {
          "id": "5a839225-b9b2-4240-8bae-d1496ce6a932"
        },
        "id": "8rrTf8qQLbzY",
        "colab_type": "code",
        "colab": {
          "base_uri": "https://localhost:8080/",
          "height": 34
        },
        "outputId": "76aec4bb-b9a5-4202-dc95-316b3ea36c0b"
      },
      "source": [
        "5 in [1,2,3]"
      ],
      "execution_count": 18,
      "outputs": [
        {
          "output_type": "execute_result",
          "data": {
            "text/plain": [
              "False"
            ]
          },
          "metadata": {
            "tags": []
          },
          "execution_count": 18
        }
      ]
    },
    {
      "cell_type": "code",
      "metadata": {
        "nbpresent": {
          "id": "4fe11454-a482-466e-9fa5-ca19d9600aed"
        },
        "id": "K8YUpmV0Lbzc",
        "colab_type": "code",
        "colab": {
          "base_uri": "https://localhost:8080/",
          "height": 34
        },
        "outputId": "27e9cedb-04b7-46c0-ab02-5457808027fa"
      },
      "source": [
        "\"a\" not in \"Todd\""
      ],
      "execution_count": 19,
      "outputs": [
        {
          "output_type": "execute_result",
          "data": {
            "text/plain": [
              "True"
            ]
          },
          "metadata": {
            "tags": []
          },
          "execution_count": 19
        }
      ]
    },
    {
      "cell_type": "code",
      "metadata": {
        "nbpresent": {
          "id": "f8a45d7f-96aa-4921-b79d-0766c4c2455b"
        },
        "id": "7e9FtrX1Lbzh",
        "colab_type": "code",
        "colab": {
          "base_uri": "https://localhost:8080/",
          "height": 34
        },
        "outputId": "f56ffb5f-a368-4704-8b68-a0286d8ab647"
      },
      "source": [
        "\"a\" in [\"a\", \"b\", \"c\"]"
      ],
      "execution_count": 20,
      "outputs": [
        {
          "output_type": "execute_result",
          "data": {
            "text/plain": [
              "True"
            ]
          },
          "metadata": {
            "tags": []
          },
          "execution_count": 20
        }
      ]
    },
    {
      "cell_type": "code",
      "metadata": {
        "nbpresent": {
          "id": "a614c579-fd34-45ce-8c2a-8b25e1e85671"
        },
        "id": "4xt_Gh6ULbzk",
        "colab_type": "code",
        "colab": {
          "base_uri": "https://localhost:8080/",
          "height": 34
        },
        "outputId": "19801fee-714d-4036-e8ba-89ea7e6ce124"
      },
      "source": [
        "\"a\" in [\"abc\", \"def\"]"
      ],
      "execution_count": 21,
      "outputs": [
        {
          "output_type": "execute_result",
          "data": {
            "text/plain": [
              "False"
            ]
          },
          "metadata": {
            "tags": []
          },
          "execution_count": 21
        }
      ]
    },
    {
      "cell_type": "code",
      "metadata": {
        "nbpresent": {
          "id": "1654f260-ee30-48ae-ab1a-7aa665103616"
        },
        "id": "sEl9LsQ2Lbzn",
        "colab_type": "code",
        "colab": {
          "base_uri": "https://localhost:8080/",
          "height": 34
        },
        "outputId": "47a20e1b-73c5-46a1-ba77-c28b54d807fd"
      },
      "source": [
        "\"todd\" == \"Todd\""
      ],
      "execution_count": 22,
      "outputs": [
        {
          "output_type": "execute_result",
          "data": {
            "text/plain": [
              "False"
            ]
          },
          "metadata": {
            "tags": []
          },
          "execution_count": 22
        }
      ]
    },
    {
      "cell_type": "markdown",
      "metadata": {
        "nbpresent": {
          "id": "573bf141-408a-4a01-a6df-8e411f6bb6f2"
        },
        "id": "F1MUdri1Lbzq",
        "colab_type": "text"
      },
      "source": [
        "## Making a range of numbers\n",
        "\n",
        "* `range` returns a sequence of numbers\n",
        "* Lazy, converted to a list\n",
        "    * for small ranges"
      ]
    },
    {
      "cell_type": "code",
      "metadata": {
        "nbpresent": {
          "id": "d2f0a0d2-9f0c-4c8d-96e5-888549baa5d3"
        },
        "id": "F50rfaWRLbzr",
        "colab_type": "code",
        "colab": {
          "base_uri": "https://localhost:8080/",
          "height": 34
        },
        "outputId": "cdeb7f29-c97b-4c95-e6ee-a1157b2057e4"
      },
      "source": [
        "range(5)"
      ],
      "execution_count": 25,
      "outputs": [
        {
          "output_type": "execute_result",
          "data": {
            "text/plain": [
              "range(0, 5)"
            ]
          },
          "metadata": {
            "tags": []
          },
          "execution_count": 25
        }
      ]
    },
    {
      "cell_type": "code",
      "metadata": {
        "id": "3aXYQNWlN9nw",
        "colab_type": "code",
        "colab": {
          "base_uri": "https://localhost:8080/",
          "height": 34
        },
        "outputId": "672666d9-ee1f-4042-facc-1fb539c0c610"
      },
      "source": [
        "range(6)"
      ],
      "execution_count": 26,
      "outputs": [
        {
          "output_type": "execute_result",
          "data": {
            "text/plain": [
              "range(0, 6)"
            ]
          },
          "metadata": {
            "tags": []
          },
          "execution_count": 26
        }
      ]
    },
    {
      "cell_type": "code",
      "metadata": {
        "id": "3xHf-6U9OCip",
        "colab_type": "code",
        "colab": {
          "base_uri": "https://localhost:8080/",
          "height": 34
        },
        "outputId": "580d069a-f5cc-4c63-dd74-97dca8fdc487"
      },
      "source": [
        "list(range(6))"
      ],
      "execution_count": 27,
      "outputs": [
        {
          "output_type": "execute_result",
          "data": {
            "text/plain": [
              "[0, 1, 2, 3, 4, 5]"
            ]
          },
          "metadata": {
            "tags": []
          },
          "execution_count": 27
        }
      ]
    },
    {
      "cell_type": "code",
      "metadata": {
        "nbpresent": {
          "id": "c057388e-3cc4-45a8-9bbc-538c1d38e6cf"
        },
        "id": "gYVpo4irLbzu",
        "colab_type": "code",
        "colab": {
          "base_uri": "https://localhost:8080/",
          "height": 34
        },
        "outputId": "2decee18-8881-4266-a43f-894e6c352182"
      },
      "source": [
        "list(range(5))"
      ],
      "execution_count": 24,
      "outputs": [
        {
          "output_type": "execute_result",
          "data": {
            "text/plain": [
              "[0, 1, 2, 3, 4]"
            ]
          },
          "metadata": {
            "tags": []
          },
          "execution_count": 24
        }
      ]
    },
    {
      "cell_type": "markdown",
      "metadata": {
        "nbpresent": {
          "id": "a06b52c5-7cd8-4944-babf-c5089452dd48"
        },
        "id": "3BgbCHHpLbzw",
        "colab_type": "text"
      },
      "source": [
        "## One argument\n",
        "\n",
        "* Starts at 0\n",
        "    * aligned with Python indexes\n",
        "* Up to, but not including, argument\n",
        "    * `range(n)` returns `n` elements\n",
        "    * Useful for repetition"
      ]
    },
    {
      "cell_type": "code",
      "metadata": {
        "nbpresent": {
          "id": "42aab43f-a332-40c6-8eda-30dc154716eb"
        },
        "id": "6nI5EFzQLbzx",
        "colab_type": "code",
        "colab": {
          "base_uri": "https://localhost:8080/",
          "height": 34
        },
        "outputId": "af3bad48-238c-4474-8e72-6c006f4587b7"
      },
      "source": [
        "list(range(10))"
      ],
      "execution_count": 28,
      "outputs": [
        {
          "output_type": "execute_result",
          "data": {
            "text/plain": [
              "[0, 1, 2, 3, 4, 5, 6, 7, 8, 9]"
            ]
          },
          "metadata": {
            "tags": []
          },
          "execution_count": 28
        }
      ]
    },
    {
      "cell_type": "markdown",
      "metadata": {
        "nbpresent": {
          "id": "3d06082c-c9b4-433c-b00f-716b6966d855"
        },
        "id": "_TtFIIhULbz0",
        "colab_type": "text"
      },
      "source": [
        "## Two Arguments\n",
        "\n",
        "* Starts at first argument\n",
        "* Goes up to, but not including, second argument\n",
        "    * Like slicing"
      ]
    },
    {
      "cell_type": "code",
      "metadata": {
        "nbpresent": {
          "id": "39c1a895-261d-4d77-8cf9-d0036be4ac78"
        },
        "id": "DU61QzobLbz1",
        "colab_type": "code",
        "colab": {
          "base_uri": "https://localhost:8080/",
          "height": 34
        },
        "outputId": "0c583549-ea6d-4bcf-a9d7-ca44451602d4"
      },
      "source": [
        "list(range(2, 10))"
      ],
      "execution_count": 29,
      "outputs": [
        {
          "output_type": "execute_result",
          "data": {
            "text/plain": [
              "[2, 3, 4, 5, 6, 7, 8, 9]"
            ]
          },
          "metadata": {
            "tags": []
          },
          "execution_count": 29
        }
      ]
    },
    {
      "cell_type": "code",
      "metadata": {
        "id": "EYBOJm2FOXMr",
        "colab_type": "code",
        "colab": {
          "base_uri": "https://localhost:8080/",
          "height": 34
        },
        "outputId": "24c4b8d1-dc8a-46d0-be7d-8dd7ddbf81f2"
      },
      "source": [
        "list(range(3,11))"
      ],
      "execution_count": 30,
      "outputs": [
        {
          "output_type": "execute_result",
          "data": {
            "text/plain": [
              "[3, 4, 5, 6, 7, 8, 9, 10]"
            ]
          },
          "metadata": {
            "tags": []
          },
          "execution_count": 30
        }
      ]
    },
    {
      "cell_type": "markdown",
      "metadata": {
        "nbpresent": {
          "id": "fbfc6859-e7c7-49fc-9853-991923e821ae"
        },
        "id": "u88jzYgULbz4",
        "colab_type": "text"
      },
      "source": [
        "## Three Arguments\n",
        "\n",
        "* First two as before\n",
        "* Third argument is step size"
      ]
    },
    {
      "cell_type": "code",
      "metadata": {
        "nbpresent": {
          "id": "4088789c-ae95-48d5-b3f8-bccb54304330"
        },
        "id": "o_Qa26ZrLbz5",
        "colab_type": "code",
        "colab": {
          "base_uri": "https://localhost:8080/",
          "height": 34
        },
        "outputId": "b4618474-38f1-4439-93dd-ac5ecfb494eb"
      },
      "source": [
        "list(range(1,5,2))"
      ],
      "execution_count": 31,
      "outputs": [
        {
          "output_type": "execute_result",
          "data": {
            "text/plain": [
              "[1, 3]"
            ]
          },
          "metadata": {
            "tags": []
          },
          "execution_count": 31
        }
      ]
    },
    {
      "cell_type": "code",
      "metadata": {
        "nbpresent": {
          "id": "af1af556-6ff7-4a4c-a729-65ac1a0c57e7"
        },
        "id": "PY0muBE-Lbz9",
        "colab_type": "code",
        "colab": {
          "base_uri": "https://localhost:8080/",
          "height": 34
        },
        "outputId": "03aaf343-c0d8-476f-9b1a-0288d561f511"
      },
      "source": [
        "list(range(10,2,-1))"
      ],
      "execution_count": 32,
      "outputs": [
        {
          "output_type": "execute_result",
          "data": {
            "text/plain": [
              "[10, 9, 8, 7, 6, 5, 4, 3]"
            ]
          },
          "metadata": {
            "tags": []
          },
          "execution_count": 32
        }
      ]
    },
    {
      "cell_type": "markdown",
      "metadata": {
        "nbpresent": {
          "id": "971c74bb-e97d-4f62-b8e1-dd095f971d82"
        },
        "id": "b01FNoBCLb0A",
        "colab_type": "text"
      },
      "source": [
        "## Other list processing functions"
      ]
    },
    {
      "cell_type": "markdown",
      "metadata": {
        "nbpresent": {
          "id": "e5da4d20-3fe0-4a80-ac12-977067145539"
        },
        "id": "y2Ol8_4nLb0B",
        "colab_type": "text"
      },
      "source": [
        "### sum and max"
      ]
    },
    {
      "cell_type": "code",
      "metadata": {
        "nbpresent": {
          "id": "83de843e-c421-43aa-9759-6a9832e8bb87"
        },
        "id": "PE4fwBTaLb0B",
        "colab_type": "code",
        "colab": {
          "base_uri": "https://localhost:8080/",
          "height": 34
        },
        "outputId": "07dc022c-e283-4ce1-804f-a3b7188a1ab8"
      },
      "source": [
        "sum([1,2,3])"
      ],
      "execution_count": 33,
      "outputs": [
        {
          "output_type": "execute_result",
          "data": {
            "text/plain": [
              "6"
            ]
          },
          "metadata": {
            "tags": []
          },
          "execution_count": 33
        }
      ]
    },
    {
      "cell_type": "code",
      "metadata": {
        "nbpresent": {
          "id": "06f88760-7610-4211-af4c-1fb623ff9a2c"
        },
        "id": "uLmt0fucLb0E",
        "colab_type": "code",
        "colab": {
          "base_uri": "https://localhost:8080/",
          "height": 34
        },
        "outputId": "121f8468-69bf-461c-8695-72b4b3a7df25"
      },
      "source": [
        "max([1,2,3])"
      ],
      "execution_count": 34,
      "outputs": [
        {
          "output_type": "execute_result",
          "data": {
            "text/plain": [
              "3"
            ]
          },
          "metadata": {
            "tags": []
          },
          "execution_count": 34
        }
      ]
    },
    {
      "cell_type": "markdown",
      "metadata": {
        "nbpresent": {
          "id": "73f7b36b-675a-45e8-a0a7-5777aa4b5b9f"
        },
        "id": "kiudQxZtLb0J",
        "colab_type": "text"
      },
      "source": [
        "## all and any"
      ]
    },
    {
      "cell_type": "code",
      "metadata": {
        "nbpresent": {
          "id": "a1f1ce29-a633-440a-aebe-436a72092a1f"
        },
        "id": "LvJYS_bULb0J",
        "colab_type": "code",
        "colab": {
          "base_uri": "https://localhost:8080/",
          "height": 34
        },
        "outputId": "02bb89b3-354a-46dc-cc0f-a5fe4352d369"
      },
      "source": [
        "all([True, False, False]) # True if all entries are True"
      ],
      "execution_count": 35,
      "outputs": [
        {
          "output_type": "execute_result",
          "data": {
            "text/plain": [
              "False"
            ]
          },
          "metadata": {
            "tags": []
          },
          "execution_count": 35
        }
      ]
    },
    {
      "cell_type": "code",
      "metadata": {
        "nbpresent": {
          "id": "a8799272-513e-4425-89fd-da3440072a7f"
        },
        "id": "KBwmDpEgLb0M",
        "colab_type": "code",
        "colab": {
          "base_uri": "https://localhost:8080/",
          "height": 34
        },
        "outputId": "4157cea6-efa7-436c-d4bb-afad122056bb"
      },
      "source": [
        "any([True, False, False]) # True if any entries are True"
      ],
      "execution_count": 36,
      "outputs": [
        {
          "output_type": "execute_result",
          "data": {
            "text/plain": [
              "True"
            ]
          },
          "metadata": {
            "tags": []
          },
          "execution_count": 36
        }
      ]
    },
    {
      "cell_type": "markdown",
      "metadata": {
        "nbpresent": {
          "id": "11458b39-3b9e-4564-be5f-1bf53168a5b9"
        },
        "id": "ycFDWM3nLb0O",
        "colab_type": "text"
      },
      "source": [
        "### `sorted` - making a new sorted sequence"
      ]
    },
    {
      "cell_type": "code",
      "metadata": {
        "nbpresent": {
          "id": "b7b6311e-9c8a-484f-8dcf-305bfcf7c99d"
        },
        "id": "__rVVwbRLb0O",
        "colab_type": "code",
        "colab": {
          "base_uri": "https://localhost:8080/",
          "height": 34
        },
        "outputId": "e5739679-fe0b-44b5-aef2-cf2e744a4a2b"
      },
      "source": [
        "sorted([1,3,2,5,4]) # returns a new sorted list"
      ],
      "execution_count": 37,
      "outputs": [
        {
          "output_type": "execute_result",
          "data": {
            "text/plain": [
              "[1, 2, 3, 4, 5]"
            ]
          },
          "metadata": {
            "tags": []
          },
          "execution_count": 37
        }
      ]
    },
    {
      "cell_type": "markdown",
      "metadata": {
        "nbpresent": {
          "id": "79bec505-58a0-45bb-8857-617ea2dfd2bf"
        },
        "id": "4c2tXWfeLb0R",
        "colab_type": "text"
      },
      "source": [
        "## Combining lists with `zip`"
      ]
    },
    {
      "cell_type": "code",
      "metadata": {
        "nbpresent": {
          "id": "1c70df56-28a7-4fee-ba13-f025be816c08"
        },
        "id": "4IL0_9PvLb0S",
        "colab_type": "code",
        "colab": {
          "base_uri": "https://localhost:8080/",
          "height": 34
        },
        "outputId": "84413319-6538-43a1-a476-8dae9de2cadc"
      },
      "source": [
        "zip([1,2,3], [\"a\", \"b\", \"c\"]) # zip is lazy"
      ],
      "execution_count": 38,
      "outputs": [
        {
          "output_type": "execute_result",
          "data": {
            "text/plain": [
              "<zip at 0x7eff2c6fe388>"
            ]
          },
          "metadata": {
            "tags": []
          },
          "execution_count": 38
        }
      ]
    },
    {
      "cell_type": "code",
      "metadata": {
        "nbpresent": {
          "id": "0de7acea-bf29-4994-a89d-21f938825c7e"
        },
        "id": "jw0Jnh5vLb0V",
        "colab_type": "code",
        "colab": {
          "base_uri": "https://localhost:8080/",
          "height": 34
        },
        "outputId": "219fa804-584f-48ff-9576-b1f4240c23bd"
      },
      "source": [
        "list(zip([1,2,3], [\"a\", \"b\", \"c\"])) # Use list to complete"
      ],
      "execution_count": 39,
      "outputs": [
        {
          "output_type": "execute_result",
          "data": {
            "text/plain": [
              "[(1, 'a'), (2, 'b'), (3, 'c')]"
            ]
          },
          "metadata": {
            "tags": []
          },
          "execution_count": 39
        }
      ]
    },
    {
      "cell_type": "markdown",
      "metadata": {
        "nbpresent": {
          "id": "ccaf8ff7-9f76-4ab8-851c-8630a3bb7701"
        },
        "id": "589vkezFLb0b",
        "colab_type": "text"
      },
      "source": [
        "### <font color='red'> Exercise 1 </font>\n",
        "\n",
        "Write a function named `largest_three` that will return the three largest elements of a list.\n",
        "\n",
        "**Example** largest_three(range(5)) == [4, 3, 2]\n",
        "\n",
        "**Hint** `sorted` and slicing should do the trick!"
      ]
    },
    {
      "cell_type": "code",
      "metadata": {
        "nbpresent": {
          "id": "3da3a1e9-e1c3-4dfc-be8d-e9f698bf5ca0"
        },
        "id": "uA_orkSkLb0h",
        "colab_type": "code",
        "colab": {
          "base_uri": "https://localhost:8080/",
          "height": 34
        },
        "outputId": "4d0aa182-01f3-4385-a40f-6d58b910fc33"
      },
      "source": [
        "def largest_three(x):\n",
        "  y=sorted(x)\n",
        "  return y[-3:]\n",
        "\n",
        "largest_three(range(5))\n"
      ],
      "execution_count": 50,
      "outputs": [
        {
          "output_type": "execute_result",
          "data": {
            "text/plain": [
              "[2, 3, 4]"
            ]
          },
          "metadata": {
            "tags": []
          },
          "execution_count": 50
        }
      ]
    },
    {
      "cell_type": "code",
      "metadata": {
        "id": "QD5dpQG6UGJI",
        "colab_type": "code",
        "colab": {
          "base_uri": "https://localhost:8080/",
          "height": 34
        },
        "outputId": "5c3448a9-81b8-45e2-c747-b0efb47e0125"
      },
      "source": [
        "def smallest_three(x):\n",
        "  y=sorted(x)\n",
        "  return y[:3]\n",
        "smallest_three(range(10))"
      ],
      "execution_count": 52,
      "outputs": [
        {
          "output_type": "execute_result",
          "data": {
            "text/plain": [
              "[0, 1, 2]"
            ]
          },
          "metadata": {
            "tags": []
          },
          "execution_count": 52
        }
      ]
    },
    {
      "cell_type": "markdown",
      "metadata": {
        "nbpresent": {
          "id": "4dde7659-919e-4d17-9f8d-ecdb41645a22"
        },
        "id": "kDKb9E54Lb0k",
        "colab_type": "text"
      },
      "source": [
        "### <font color=\"red\"> Exercise 2</font>\n",
        "\n",
        "Create the following functions.\n",
        "\n",
        "* Write a function named `median_odd` that will compute the median of an odd-length list.\n",
        "    * You need to sort and get the middle value using indexing."
      ]
    },
    {
      "cell_type": "code",
      "metadata": {
        "id": "n83M4gExLb0k",
        "colab_type": "code",
        "colab": {}
      },
      "source": [
        "def median_odd(x):\n",
        "  y=sorted(x)\n",
        "  z=len(x)\n",
        "  A=int((z-1)/2)\n",
        "  return y[A]\n",
        "\n"
      ],
      "execution_count": 71,
      "outputs": []
    },
    {
      "cell_type": "code",
      "metadata": {
        "nbpresent": {
          "id": "0198e826-d5ea-414c-ae04-995b0d4ba170"
        },
        "id": "76vNnrysLb0o",
        "colab_type": "code",
        "colab": {}
      },
      "source": [
        "# You need to pass these tests\n",
        "def test_median_odd():\n",
        "    assert median_odd([1]) == 1 # edge case\n",
        "    assert median_odd([1,2,3]) == 2 # should work on sorted list\n",
        "    assert median_odd([1,3,2,4,5]) == 3 # needs to sort first\n",
        "test_median_odd()"
      ],
      "execution_count": 72,
      "outputs": []
    },
    {
      "cell_type": "markdown",
      "metadata": {
        "nbpresent": {
          "id": "4dde7659-919e-4d17-9f8d-ecdb41645a22"
        },
        "id": "uv0VgwWALb0s",
        "colab_type": "text"
      },
      "source": [
        "* Write a function named `median_even` that will compute the median of an even-length list.\n",
        "    * You need to sort, get the middle 2 value with slicing, and average these values."
      ]
    },
    {
      "cell_type": "code",
      "metadata": {
        "id": "j8Dm9W7iLb0s",
        "colab_type": "code",
        "colab": {}
      },
      "source": [
        "median_even lambda L: 5 # Fix this!"
      ],
      "execution_count": null,
      "outputs": []
    },
    {
      "cell_type": "code",
      "metadata": {
        "id": "b13maB-DbMZ2",
        "colab_type": "code",
        "colab": {}
      },
      "source": [
        "def median_even(x):\n",
        "  y=sorted(x)\n",
        "  z=len(x)\n",
        "  A=int(z/2)\n",
        "  B=(A-1)\n",
        "  return (y[A]+y[B])/2"
      ],
      "execution_count": 75,
      "outputs": []
    },
    {
      "cell_type": "code",
      "metadata": {
        "nbpresent": {
          "id": "0198e826-d5ea-414c-ae04-995b0d4ba170"
        },
        "id": "90-FRqsHLb0v",
        "colab_type": "code",
        "colab": {}
      },
      "source": [
        "# You need to pass these tests\n",
        "def test_median_even():\n",
        "    assert median_even([1, 2]) == 1.5 # edge case\n",
        "    assert median_even([1, 2, 2, 3]) == 2.0 # should work on sorted list\n",
        "    assert median_even([1, 3,4,2]) == 2.5 # needs to sort first\n",
        "test_median_even()"
      ],
      "execution_count": 76,
      "outputs": []
    },
    {
      "cell_type": "markdown",
      "metadata": {
        "nbpresent": {
          "id": "4dde7659-919e-4d17-9f8d-ecdb41645a22"
        },
        "id": "MpGHRfGuLb01",
        "colab_type": "text"
      },
      "source": [
        "* Write a function named `median` that will compute the median of any length list.\n",
        "    * Use the conditional expression along with `median_odd` and `median_even`"
      ]
    },
    {
      "cell_type": "code",
      "metadata": {
        "id": "4Iz_s9o2Lb02",
        "colab_type": "code",
        "colab": {}
      },
      "source": [
        "median = lambda L: 5 # Fix this!"
      ],
      "execution_count": null,
      "outputs": []
    },
    {
      "cell_type": "code",
      "metadata": {
        "id": "j_bIWgxKd8mr",
        "colab_type": "code",
        "colab": {
          "base_uri": "https://localhost:8080/",
          "height": 34
        },
        "outputId": "40729c1c-10d5-4222-e9af-d879de354e7d"
      },
      "source": [
        "def median(x):\n",
        "  A=len(sorted(x))\n",
        "  if (A % 2)==0:\n",
        "    return median_even(x)\n",
        "  else:\n",
        "    return median_odd(x)\n",
        "\n",
        "median(range(6))"
      ],
      "execution_count": 79,
      "outputs": [
        {
          "output_type": "execute_result",
          "data": {
            "text/plain": [
              "2.5"
            ]
          },
          "metadata": {
            "tags": []
          },
          "execution_count": 79
        }
      ]
    },
    {
      "cell_type": "markdown",
      "metadata": {
        "nbpresent": {
          "id": "2e1dc285-b7d5-4802-94d7-f17654ad43d2"
        },
        "id": "lh_8P9sPLb05",
        "colab_type": "text"
      },
      "source": [
        "### (Optional) Other Sequence Operations\n",
        "\n",
        "|Operation  | Purpose     |\n",
        "|---------- | ------------|\n",
        "| +         | concatenate |\n",
        "| *         | replicate   |\n",
        "| s[i]      | index       |\n",
        "| s[i:j]    | slice       |\n",
        "| len(s)    | length      |\n",
        "| s in t    | membership  |\n",
        "| s not in t| membership  |"
      ]
    },
    {
      "cell_type": "markdown",
      "metadata": {
        "nbpresent": {
          "id": "e45ac6b1-f224-4bcd-8a38-4c2c1d3a7591"
        },
        "id": "miertdjVLb08",
        "colab_type": "text"
      },
      "source": [
        "## Arithmetic"
      ]
    },
    {
      "cell_type": "code",
      "metadata": {
        "nbpresent": {
          "id": "4e4aee86-02f2-48b3-a59e-af9269c1dc25"
        },
        "id": "1fv05zHfLb08",
        "colab_type": "code",
        "colab": {},
        "outputId": "b8bc1ce7-cb8d-4e5f-8d03-2a71e2539eb8"
      },
      "source": [
        "\"123\" + \"abc\""
      ],
      "execution_count": null,
      "outputs": [
        {
          "output_type": "execute_result",
          "data": {
            "text/plain": [
              "'123abc'"
            ]
          },
          "metadata": {
            "tags": []
          },
          "execution_count": 1
        }
      ]
    },
    {
      "cell_type": "code",
      "metadata": {
        "nbpresent": {
          "id": "af4fccfe-5504-450d-8968-551c7efb0116"
        },
        "id": "m8XKapvaLb0-",
        "colab_type": "code",
        "colab": {},
        "outputId": "396bcbc5-4941-4e1e-de7a-ef3416474702"
      },
      "source": [
        "[1,2,3] + [\"a\",\"b\",\"c\"]"
      ],
      "execution_count": null,
      "outputs": [
        {
          "output_type": "execute_result",
          "data": {
            "text/plain": [
              "[1, 2, 3, 'a', 'b', 'c']"
            ]
          },
          "metadata": {
            "tags": []
          },
          "execution_count": 2
        }
      ]
    },
    {
      "cell_type": "code",
      "metadata": {
        "nbpresent": {
          "id": "ab3f85df-d2c0-4208-bdb0-a16b9d7d5e82"
        },
        "id": "H8WWxjZCLb1F",
        "colab_type": "code",
        "colab": {},
        "outputId": "4f5b7ddd-7b20-4f64-ce06-7c31048a2cb4"
      },
      "source": [
        "3*[1,2,3]"
      ],
      "execution_count": null,
      "outputs": [
        {
          "output_type": "execute_result",
          "data": {
            "text/plain": [
              "[1, 2, 3, 1, 2, 3, 1, 2, 3]"
            ]
          },
          "metadata": {
            "tags": []
          },
          "execution_count": 3
        }
      ]
    },
    {
      "cell_type": "code",
      "metadata": {
        "nbpresent": {
          "id": "0b89ff0d-f7a7-44dc-a837-6a4025ffd8f2"
        },
        "id": "qZi5v2EFLb1J",
        "colab_type": "code",
        "colab": {},
        "outputId": "c57323f5-5a70-4da9-eec7-9c1c17d64ac3"
      },
      "source": [
        "3*\"Wow\" + 4*\"!\""
      ],
      "execution_count": null,
      "outputs": [
        {
          "output_type": "execute_result",
          "data": {
            "text/plain": [
              "'WowWowWow!!!!'"
            ]
          },
          "metadata": {
            "tags": []
          },
          "execution_count": 4
        }
      ]
    },
    {
      "cell_type": "code",
      "metadata": {
        "nbpresent": {
          "id": "14ae61dc-3a2a-463b-8072-ca7a6794290e"
        },
        "id": "zLlg2-GYLb1M",
        "colab_type": "code",
        "colab": {},
        "outputId": "7e9b84d3-4078-406f-c3cd-1fed2fb9f044"
      },
      "source": [
        "2*('a', 'b') + ('c',)"
      ],
      "execution_count": null,
      "outputs": [
        {
          "output_type": "execute_result",
          "data": {
            "text/plain": [
              "('a', 'b', 'a', 'b', 'c')"
            ]
          },
          "metadata": {
            "tags": []
          },
          "execution_count": 5
        }
      ]
    },
    {
      "cell_type": "markdown",
      "metadata": {
        "id": "p4WkmVbLLb1O",
        "colab_type": "text"
      },
      "source": [
        "<font color=\"red\"><h2> (Optional) Exercise 3</h2></font>\n",
        "\n",
        "Create the following using concatenation (`+`) and replication (`*`)\n",
        "\n",
        "* [1,1,1,2,2,3,3,3]\n",
        "* \"Tora Tora Tora!\""
      ]
    },
    {
      "cell_type": "code",
      "metadata": {
        "id": "JVZBCmJaLb1O",
        "colab_type": "code",
        "colab": {}
      },
      "source": [
        ""
      ],
      "execution_count": null,
      "outputs": []
    }
  ]
}